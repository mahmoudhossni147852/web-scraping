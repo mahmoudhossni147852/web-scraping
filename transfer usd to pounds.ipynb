{
  "nbformat": 4,
  "nbformat_minor": 0,
  "metadata": {
    "colab": {
      "name": "Untitled11.ipynb",
      "provenance": [],
      "collapsed_sections": []
    },
    "kernelspec": {
      "name": "python3",
      "display_name": "Python 3"
    },
    "language_info": {
      "name": "python"
    }
  },
  "cells": [
    {
      "cell_type": "code",
      "metadata": {
        "id": "DcwUi9uNWCjA"
      },
      "source": [
        "import requests\n",
        "from bs4 import BeautifulSoup\n",
        "url = 'https://www.exchangerates.org.uk/Dollars-to-Egyptian-Pounds-currency-conversion-page.html'\n",
        "response = requests.get(url)\n",
        "soup=BeautifulSoup(response.text,\"html.parser\")\n",
        "EGY1=soup.find(\"td\",attrs={\"class\":\"convtop\"}).get_text()\n",
        "EGY2=EGY1.split('1 USD =')[1]\n",
        "EGY=float(EGY2.split('EGP')[0])\n",
        "USD=input(\"Enter the number of dollars to be transferred :\")\n",
        "USD=float(USD)\n",
        "USD\n",
        "def pounds(EGY,USD):\n",
        "  return  USD * EGY\n",
        "print(pounds(EGY,USD))"
      ],
      "execution_count": null,
      "outputs": []
    }
  ]
}