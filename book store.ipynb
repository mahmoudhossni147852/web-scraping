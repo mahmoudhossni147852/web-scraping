{
  "nbformat": 4,
  "nbformat_minor": 0,
  "metadata": {
    "colab": {
      "name": "Untitled6.ipynb",
      "provenance": [],
      "collapsed_sections": []
    },
    "kernelspec": {
      "name": "python3",
      "display_name": "Python 3"
    },
    "language_info": {
      "name": "python"
    }
  },
  "cells": [
    {
      "cell_type": "code",
      "metadata": {
        "id": "hvjGSR2Po8kl"
      },
      "source": [
        "import requests\n",
        "from bs4 import BeautifulSoup \n",
        "from datetime import datetime\n",
        "import time\n",
        "with open('books.txt', 'w') as f:\n",
        "  for i in range(10):\n",
        "    url = 'http://books.toscrape.com/catalogue/category/books/science_22/index.html'\n",
        "    respons = requests.get(url)\n",
        "    soup = BeautifulSoup(respons.text, \"html.parser\")\n",
        "    products =soup.findAll(\"li\", {\"class\": \"col-xs-6 col-sm-4 col-md-3 col-lg-3\"})\n",
        "  for books in products: \n",
        "      book_title = books.h3.a[\"title\"]\n",
        "      book_price = books.findAll(\"p\", {\"class\": \"price_color\"})\n",
        "      price = book_price[0].text.strip()\n",
        "      now = datetime.now()\n",
        "      time_now = now.strftime(\"%d/%m/%Y %H:%M:%S\")\n",
        "    \n",
        "      output = f\"Book title={book_title}, price={price} \\n\"\n",
        "      f.write(output)\n",
        "      print(f'scrapping done for {i+1} times at {time_now}')\n",
        "  time.sleep(1)\n",
        "f.close()"
      ],
      "execution_count": null,
      "outputs": []
    },
    {
      "cell_type": "code",
      "metadata": {
        "id": "KLnSpzpVpTm9"
      },
      "source": [
        "f = open('books.txt', 'r')\n",
        "print(f.read())\n",
        "f.close()"
      ],
      "execution_count": null,
      "outputs": []
    },
    {
      "cell_type": "code",
      "metadata": {
        "id": "HcUYo6HqsHzp"
      },
      "source": [
        "import csv \n",
        "with open('Books.csv', 'w') as f:\n",
        "    fnames = ['book_title', 'price']\n",
        "    writer = csv.DictWriter(f , fieldnames=fnames)\n",
        "    writer.writeheader()\n",
        "    for i in range(10):\n",
        "      myurl = 'http://books.toscrape.com/catalogue/category/books/science_22/index.html'\n",
        "      respons = requests.get(url)\n",
        "      soup = BeautifulSoup(respons.text, \"html.parser\")\n",
        "      products =soup.findAll(\"li\", {\"class\": \"col-xs-6 col-sm-4 col-md-3 col-lg-3\"})\n",
        "    for books in products: \n",
        "      book_title = books.h3.a[\"title\"]\n",
        "      book_price = books.findAll(\"p\", {\"class\": \"price_color\"})\n",
        "      price = book_price[0].text.strip()\n",
        "      now = datetime.now()\n",
        "      time_now = now.strftime(\"%d/%m/%Y %H:%M:%S\")\n",
        "    \n",
        "      output = {'book_title' : book_title, 'price': price}\n",
        "      writer.writerow(output)\n",
        "      print(f'scrapping done for {i+1} times at {time_now}')\n",
        "      time.sleep(1)\n",
        "f.close()\n"
      ],
      "execution_count": null,
      "outputs": []
    },
    {
      "cell_type": "code",
      "metadata": {
        "id": "-g7T3TqEz2sN"
      },
      "source": [
        "f = open('Books.csv', 'r')\n",
        "print(f.read())\n",
        "f.close()"
      ],
      "execution_count": null,
      "outputs": []
    },
    {
      "cell_type": "code",
      "metadata": {
        "id": "f4vS5NJjtFE3"
      },
      "source": [
        "import pandas as pd\n",
        "\n",
        "data = pd.read_csv('Books.csv')\n",
        "data"
      ],
      "execution_count": null,
      "outputs": []
    }
  ]
}